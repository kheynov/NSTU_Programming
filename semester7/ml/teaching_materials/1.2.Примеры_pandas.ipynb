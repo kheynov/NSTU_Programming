{
 "nbformat": 4,
 "nbformat_minor": 0,
 "metadata": {
  "colab": {
   "provenance": [
    {
     "file_id": "1htIpiz4TFmjjgCm827bFHZR9qqr0c5xK",
     "timestamp": 1693769810892
    }
   ],
   "toc_visible": true,
   "authorship_tag": "ABX9TyPxH91BF78JfEE2Ob+1d40K"
  },
  "kernelspec": {
   "name": "python3",
   "language": "python",
   "display_name": "Python 3 (ipykernel)"
  },
  "language_info": {
   "name": "python"
  }
 },
 "cells": [
  {
   "cell_type": "code",
   "execution_count": 8,
   "metadata": {
    "id": "zyEJx2Ek7FvV",
    "executionInfo": {
     "status": "ok",
     "timestamp": 1693816999971,
     "user_tz": -420,
     "elapsed": 568,
     "user": {
      "displayName": "Иван Осипенко",
      "userId": "16599116897440604411"
     }
    },
    "ExecuteTime": {
     "end_time": "2023-09-06T02:22:41.907610Z",
     "start_time": "2023-09-06T02:22:41.857536Z"
    }
   },
   "outputs": [],
   "source": [
    "import pandas as pd"
   ]
  },
  {
   "cell_type": "code",
   "source": [],
   "metadata": {
    "id": "Zc6fHzCn_AII",
    "executionInfo": {
     "status": "ok",
     "timestamp": 1693816999974,
     "user_tz": -420,
     "elapsed": 13,
     "user": {
      "displayName": "Иван Осипенко",
      "userId": "16599116897440604411"
     }
    },
    "ExecuteTime": {
     "end_time": "2023-09-06T02:22:41.954257Z",
     "start_time": "2023-09-06T02:22:41.861758Z"
    }
   },
   "execution_count": 8,
   "outputs": []
  },
  {
   "cell_type": "markdown",
   "source": [
    "# Преобразование даты и работа с элементами даты"
   ],
   "metadata": {
    "id": "UL65iMZq83Ew"
   }
  },
  {
   "cell_type": "code",
   "source": [
    "df = pd.DataFrame (\n",
    "    {\n",
    "        \"name\": [\"Объект1\", \"Объект2\", \"Объект3\"],\n",
    "        \"myStrDate\": [\"2022-09-01\",   \"2022-09-02\",     \"2022-09-03\"],\n",
    "    }\n",
    " )\n",
    "\n",
    "df"
   ],
   "metadata": {
    "colab": {
     "base_uri": "https://localhost:8080/",
     "height": 144
    },
    "id": "qYqubyCQ7K0o",
    "executionInfo": {
     "status": "ok",
     "timestamp": 1693817000427,
     "user_tz": -420,
     "elapsed": 462,
     "user": {
      "displayName": "Иван Осипенко",
      "userId": "16599116897440604411"
     }
    },
    "outputId": "d3fb7997-dafb-47fa-aac6-5094417debbf",
    "ExecuteTime": {
     "end_time": "2023-09-06T02:22:42.038046Z",
     "start_time": "2023-09-06T02:22:41.873284Z"
    }
   },
   "execution_count": 9,
   "outputs": [
    {
     "data": {
      "text/plain": "      name   myStrDate\n0  Объект1  2022-09-01\n1  Объект2  2022-09-02\n2  Объект3  2022-09-03",
      "text/html": "<div>\n<style scoped>\n    .dataframe tbody tr th:only-of-type {\n        vertical-align: middle;\n    }\n\n    .dataframe tbody tr th {\n        vertical-align: top;\n    }\n\n    .dataframe thead th {\n        text-align: right;\n    }\n</style>\n<table border=\"1\" class=\"dataframe\">\n  <thead>\n    <tr style=\"text-align: right;\">\n      <th></th>\n      <th>name</th>\n      <th>myStrDate</th>\n    </tr>\n  </thead>\n  <tbody>\n    <tr>\n      <th>0</th>\n      <td>Объект1</td>\n      <td>2022-09-01</td>\n    </tr>\n    <tr>\n      <th>1</th>\n      <td>Объект2</td>\n      <td>2022-09-02</td>\n    </tr>\n    <tr>\n      <th>2</th>\n      <td>Объект3</td>\n      <td>2022-09-03</td>\n    </tr>\n  </tbody>\n</table>\n</div>"
     },
     "execution_count": 9,
     "metadata": {},
     "output_type": "execute_result"
    }
   ]
  },
  {
   "cell_type": "code",
   "source": [
    "df[\"myStrDate\"] # получить столбец. Тип данных результата - object (строковый/смешанный)"
   ],
   "metadata": {
    "colab": {
     "base_uri": "https://localhost:8080/"
    },
    "id": "QJLvA6Cm78lk",
    "executionInfo": {
     "status": "ok",
     "timestamp": 1693817000429,
     "user_tz": -420,
     "elapsed": 39,
     "user": {
      "displayName": "Иван Осипенко",
      "userId": "16599116897440604411"
     }
    },
    "outputId": "ede4a23f-afa0-41fa-97f6-187f5190d325",
    "ExecuteTime": {
     "end_time": "2023-09-06T02:22:42.039987Z",
     "start_time": "2023-09-06T02:22:41.878519Z"
    }
   },
   "execution_count": 10,
   "outputs": [
    {
     "data": {
      "text/plain": "0    2022-09-01\n1    2022-09-02\n2    2022-09-03\nName: myStrDate, dtype: object"
     },
     "execution_count": 10,
     "metadata": {},
     "output_type": "execute_result"
    }
   ]
  },
  {
   "cell_type": "code",
   "source": [
    "#https://pandas.pydata.org/docs/reference/api/pandas.to_datetime.html\n",
    "pd.to_datetime(df[\"myStrDate\"],  format='%Y-%m-%d')  # Передать зачения столбеца в функцию преобразования к типу Дата/время. Тип данных - datetime64[ns]"
   ],
   "metadata": {
    "colab": {
     "base_uri": "https://localhost:8080/"
    },
    "id": "3FYElgce7Ybh",
    "executionInfo": {
     "status": "ok",
     "timestamp": 1693817000433,
     "user_tz": -420,
     "elapsed": 38,
     "user": {
      "displayName": "Иван Осипенко",
      "userId": "16599116897440604411"
     }
    },
    "outputId": "bd8c1248-3af5-4c29-b114-47845705835b",
    "ExecuteTime": {
     "end_time": "2023-09-06T02:22:42.040205Z",
     "start_time": "2023-09-06T02:22:41.884226Z"
    }
   },
   "execution_count": 11,
   "outputs": [
    {
     "data": {
      "text/plain": "0   2022-09-01\n1   2022-09-02\n2   2022-09-03\nName: myStrDate, dtype: datetime64[ns]"
     },
     "execution_count": 11,
     "metadata": {},
     "output_type": "execute_result"
    }
   ]
  },
  {
   "cell_type": "code",
   "source": [
    "df[\"parsedDate\"] = pd.to_datetime(df[\"myStrDate\"],  format='%Y-%m-%d', ) # результат добавить в исх. таблицу новым столбцом"
   ],
   "metadata": {
    "id": "PzOKqeH-77Rg",
    "executionInfo": {
     "status": "ok",
     "timestamp": 1693817000437,
     "user_tz": -420,
     "elapsed": 37,
     "user": {
      "displayName": "Иван Осипенко",
      "userId": "16599116897440604411"
     }
    },
    "ExecuteTime": {
     "end_time": "2023-09-06T02:22:42.040287Z",
     "start_time": "2023-09-06T02:22:41.890052Z"
    }
   },
   "execution_count": 12,
   "outputs": []
  },
  {
   "cell_type": "code",
   "source": [
    "df"
   ],
   "metadata": {
    "colab": {
     "base_uri": "https://localhost:8080/",
     "height": 144
    },
    "id": "UOVwpKkM8IBb",
    "executionInfo": {
     "status": "ok",
     "timestamp": 1693817000439,
     "user_tz": -420,
     "elapsed": 38,
     "user": {
      "displayName": "Иван Осипенко",
      "userId": "16599116897440604411"
     }
    },
    "outputId": "6db420d3-578a-4ccc-c55e-87deaa16fada",
    "ExecuteTime": {
     "end_time": "2023-09-06T02:22:42.041152Z",
     "start_time": "2023-09-06T02:22:41.896485Z"
    }
   },
   "execution_count": 13,
   "outputs": [
    {
     "data": {
      "text/plain": "      name   myStrDate parsedDate\n0  Объект1  2022-09-01 2022-09-01\n1  Объект2  2022-09-02 2022-09-02\n2  Объект3  2022-09-03 2022-09-03",
      "text/html": "<div>\n<style scoped>\n    .dataframe tbody tr th:only-of-type {\n        vertical-align: middle;\n    }\n\n    .dataframe tbody tr th {\n        vertical-align: top;\n    }\n\n    .dataframe thead th {\n        text-align: right;\n    }\n</style>\n<table border=\"1\" class=\"dataframe\">\n  <thead>\n    <tr style=\"text-align: right;\">\n      <th></th>\n      <th>name</th>\n      <th>myStrDate</th>\n      <th>parsedDate</th>\n    </tr>\n  </thead>\n  <tbody>\n    <tr>\n      <th>0</th>\n      <td>Объект1</td>\n      <td>2022-09-01</td>\n      <td>2022-09-01</td>\n    </tr>\n    <tr>\n      <th>1</th>\n      <td>Объект2</td>\n      <td>2022-09-02</td>\n      <td>2022-09-02</td>\n    </tr>\n    <tr>\n      <th>2</th>\n      <td>Объект3</td>\n      <td>2022-09-03</td>\n      <td>2022-09-03</td>\n    </tr>\n  </tbody>\n</table>\n</div>"
     },
     "execution_count": 13,
     "metadata": {},
     "output_type": "execute_result"
    }
   ]
  },
  {
   "cell_type": "code",
   "source": [
    "df[\"parsedDate\"].dt.dayofweek # номер дня недели\n",
    "df[\"parsedDate\"].dt.day   # номер дня в месяце\n",
    "df[\"parsedDate\"].dt.month # номер месяца в году\n",
    "df[\"parsedDate\"].dt.week # номер недели в году\n",
    "df[\"parsedDate\"].dt.year # год\n"
   ],
   "metadata": {
    "colab": {
     "base_uri": "https://localhost:8080/"
    },
    "id": "O2IlpQsI8Jo4",
    "executionInfo": {
     "status": "ok",
     "timestamp": 1693817016657,
     "user_tz": -420,
     "elapsed": 581,
     "user": {
      "displayName": "Иван Осипенко",
      "userId": "16599116897440604411"
     }
    },
    "outputId": "52a2c267-a5c2-4cde-b352-281b19408313",
    "ExecuteTime": {
     "end_time": "2023-09-06T02:22:48.436312Z",
     "start_time": "2023-09-06T02:22:48.422247Z"
    }
   },
   "execution_count": 15,
   "outputs": [
    {
     "ename": "AttributeError",
     "evalue": "'DatetimeProperties' object has no attribute 'week'",
     "output_type": "error",
     "traceback": [
      "\u001B[0;31m---------------------------------------------------------------------------\u001B[0m",
      "\u001B[0;31mAttributeError\u001B[0m                            Traceback (most recent call last)",
      "Cell \u001B[0;32mIn[15], line 4\u001B[0m\n\u001B[1;32m      2\u001B[0m df[\u001B[38;5;124m\"\u001B[39m\u001B[38;5;124mparsedDate\u001B[39m\u001B[38;5;124m\"\u001B[39m]\u001B[38;5;241m.\u001B[39mdt\u001B[38;5;241m.\u001B[39mday   \u001B[38;5;66;03m# номер дня в месяце\u001B[39;00m\n\u001B[1;32m      3\u001B[0m df[\u001B[38;5;124m\"\u001B[39m\u001B[38;5;124mparsedDate\u001B[39m\u001B[38;5;124m\"\u001B[39m]\u001B[38;5;241m.\u001B[39mdt\u001B[38;5;241m.\u001B[39mmonth \u001B[38;5;66;03m# номер месяца в году\u001B[39;00m\n\u001B[0;32m----> 4\u001B[0m \u001B[43mdf\u001B[49m\u001B[43m[\u001B[49m\u001B[38;5;124;43m\"\u001B[39;49m\u001B[38;5;124;43mparsedDate\u001B[39;49m\u001B[38;5;124;43m\"\u001B[39;49m\u001B[43m]\u001B[49m\u001B[38;5;241;43m.\u001B[39;49m\u001B[43mdt\u001B[49m\u001B[38;5;241;43m.\u001B[39;49m\u001B[43mweek\u001B[49m \u001B[38;5;66;03m# номер недели в году\u001B[39;00m\n\u001B[1;32m      5\u001B[0m df[\u001B[38;5;124m\"\u001B[39m\u001B[38;5;124mparsedDate\u001B[39m\u001B[38;5;124m\"\u001B[39m]\u001B[38;5;241m.\u001B[39mdt\u001B[38;5;241m.\u001B[39myear \u001B[38;5;66;03m# год\u001B[39;00m\n",
      "\u001B[0;31mAttributeError\u001B[0m: 'DatetimeProperties' object has no attribute 'week'"
     ]
    }
   ]
  },
  {
   "cell_type": "code",
   "source": [
    "df['NewColumns_dayofweek'] = df[\"parsedDate\"].dt.dayofweek # номер дня недели\n",
    "df"
   ],
   "metadata": {
    "colab": {
     "base_uri": "https://localhost:8080/",
     "height": 144
    },
    "id": "b-y8VzScXC6c",
    "executionInfo": {
     "status": "ok",
     "timestamp": 1693817027418,
     "user_tz": -420,
     "elapsed": 16,
     "user": {
      "displayName": "Иван Осипенко",
      "userId": "16599116897440604411"
     }
    },
    "outputId": "8cde94de-ffec-47a4-8cde-a2a2fad2c861",
    "ExecuteTime": {
     "end_time": "2023-09-06T02:22:59.237449Z",
     "start_time": "2023-09-06T02:22:59.233349Z"
    }
   },
   "execution_count": 16,
   "outputs": [
    {
     "data": {
      "text/plain": "      name   myStrDate parsedDate  NewColumns_dayofweek\n0  Объект1  2022-09-01 2022-09-01                     3\n1  Объект2  2022-09-02 2022-09-02                     4\n2  Объект3  2022-09-03 2022-09-03                     5",
      "text/html": "<div>\n<style scoped>\n    .dataframe tbody tr th:only-of-type {\n        vertical-align: middle;\n    }\n\n    .dataframe tbody tr th {\n        vertical-align: top;\n    }\n\n    .dataframe thead th {\n        text-align: right;\n    }\n</style>\n<table border=\"1\" class=\"dataframe\">\n  <thead>\n    <tr style=\"text-align: right;\">\n      <th></th>\n      <th>name</th>\n      <th>myStrDate</th>\n      <th>parsedDate</th>\n      <th>NewColumns_dayofweek</th>\n    </tr>\n  </thead>\n  <tbody>\n    <tr>\n      <th>0</th>\n      <td>Объект1</td>\n      <td>2022-09-01</td>\n      <td>2022-09-01</td>\n      <td>3</td>\n    </tr>\n    <tr>\n      <th>1</th>\n      <td>Объект2</td>\n      <td>2022-09-02</td>\n      <td>2022-09-02</td>\n      <td>4</td>\n    </tr>\n    <tr>\n      <th>2</th>\n      <td>Объект3</td>\n      <td>2022-09-03</td>\n      <td>2022-09-03</td>\n      <td>5</td>\n    </tr>\n  </tbody>\n</table>\n</div>"
     },
     "execution_count": 16,
     "metadata": {},
     "output_type": "execute_result"
    }
   ]
  },
  {
   "cell_type": "markdown",
   "source": [
    "# Замена значений (mapping)"
   ],
   "metadata": {
    "id": "yNtcj1Qy92ZB"
   }
  },
  {
   "cell_type": "code",
   "source": [
    "df = pd.DataFrame (\n",
    "    {\n",
    "        \"name\": [\"Объект1\", \"Объект2\", \"Объект3\", \"Объект4\"],\n",
    "        \"NameDayOfWeek\": [\"Понедельник\",   \"Вторник\",   \"Среда\",  \"Понедельник\"],\n",
    "    }\n",
    " )\n",
    "\n",
    "df"
   ],
   "metadata": {
    "colab": {
     "base_uri": "https://localhost:8080/",
     "height": 175
    },
    "id": "cHfNVbMa8PAR",
    "executionInfo": {
     "status": "ok",
     "timestamp": 1664789218786,
     "user_tz": -420,
     "elapsed": 137,
     "user": {
      "displayName": "Иван Осипенко",
      "userId": "16599116897440604411"
     }
    },
    "outputId": "9dcd4bfe-a5c7-4042-d89c-087f1f1f0dc6",
    "ExecuteTime": {
     "start_time": "2023-09-06T02:22:41.913771Z"
    }
   },
   "execution_count": null,
   "outputs": []
  },
  {
   "cell_type": "code",
   "source": [
    "df[\"NameDayOfWeek\"] # получить столбец. Тип данных результата - object (строковый/смешанный)"
   ],
   "metadata": {
    "colab": {
     "base_uri": "https://localhost:8080/"
    },
    "id": "7IcBm0b--TJX",
    "executionInfo": {
     "status": "ok",
     "timestamp": 1664789218788,
     "user_tz": -420,
     "elapsed": 135,
     "user": {
      "displayName": "Иван Осипенко",
      "userId": "16599116897440604411"
     }
    },
    "outputId": "b3ffc006-338c-4014-dd10-c8210f79aaaa",
    "ExecuteTime": {
     "start_time": "2023-09-06T02:22:41.915656Z"
    }
   },
   "execution_count": null,
   "outputs": []
  },
  {
   "cell_type": "code",
   "source": [
    "df[\"NameDayOfWeek\"].nunique() # получить количество уникальных значений в столбце"
   ],
   "metadata": {
    "colab": {
     "base_uri": "https://localhost:8080/"
    },
    "id": "BB9weBi8-ePV",
    "executionInfo": {
     "status": "ok",
     "timestamp": 1664789218789,
     "user_tz": -420,
     "elapsed": 132,
     "user": {
      "displayName": "Иван Осипенко",
      "userId": "16599116897440604411"
     }
    },
    "outputId": "3193ae37-ba17-4bf9-d740-ad3693a973b1",
    "ExecuteTime": {
     "start_time": "2023-09-06T02:22:41.916976Z"
    }
   },
   "execution_count": null,
   "outputs": []
  },
  {
   "cell_type": "code",
   "source": [
    "df[\"NameDayOfWeek\"].unique() # получить множество уникальных значений в столбце"
   ],
   "metadata": {
    "colab": {
     "base_uri": "https://localhost:8080/"
    },
    "id": "L4LObtnf-jH4",
    "executionInfo": {
     "status": "ok",
     "timestamp": 1664789218791,
     "user_tz": -420,
     "elapsed": 128,
     "user": {
      "displayName": "Иван Осипенко",
      "userId": "16599116897440604411"
     }
    },
    "outputId": "d31f9973-6f33-4c73-be6f-b64f40443238",
    "ExecuteTime": {
     "start_time": "2023-09-06T02:22:41.918384Z"
    }
   },
   "execution_count": null,
   "outputs": []
  },
  {
   "cell_type": "code",
   "source": [
    "# https://pandas.pydata.org/docs/reference/api/pandas.Series.map.html\n",
    "# применить карту соотвествий имеющихся и новых значений. Тип данных результата - object (строковый/смешанный)\n",
    "df['NameDayOfWeek'].map(\n",
    "  {\n",
    "    \"Понедельник\": 'Monday',\n",
    "    \"Вторник\": 'Tuesday',\n",
    "    \"Среда\": 'Wednesday',\n",
    "  }\n",
    ")"
   ],
   "metadata": {
    "colab": {
     "base_uri": "https://localhost:8080/"
    },
    "id": "NDbzTxWM9Fsf",
    "executionInfo": {
     "status": "ok",
     "timestamp": 1664789218794,
     "user_tz": -420,
     "elapsed": 126,
     "user": {
      "displayName": "Иван Осипенко",
      "userId": "16599116897440604411"
     }
    },
    "outputId": "e393f8fa-7819-4522-bac3-e3e3880ac19a",
    "ExecuteTime": {
     "start_time": "2023-09-06T02:22:41.920233Z"
    }
   },
   "execution_count": null,
   "outputs": []
  },
  {
   "cell_type": "code",
   "source": [
    "# применить карту соотвествий имеющихся и новых значений. Тип данных результата - int64 (целочисленный)\n",
    "df['NameDayOfWeek'].map(\n",
    "  {\n",
    "    \"Понедельник\": 1,\n",
    "    \"Вторник\": 2,\n",
    "    \"Среда\": 3,\n",
    "  }\n",
    ")"
   ],
   "metadata": {
    "colab": {
     "base_uri": "https://localhost:8080/"
    },
    "id": "ACl0EhxN-thR",
    "executionInfo": {
     "status": "ok",
     "timestamp": 1664789218797,
     "user_tz": -420,
     "elapsed": 124,
     "user": {
      "displayName": "Иван Осипенко",
      "userId": "16599116897440604411"
     }
    },
    "outputId": "2ca3e2f4-fc8f-4bc9-ff34-befcf37cc0c6",
    "ExecuteTime": {
     "start_time": "2023-09-06T02:22:41.922165Z"
    }
   },
   "execution_count": null,
   "outputs": []
  },
  {
   "cell_type": "code",
   "source": [
    "# результат добавить в исх. таблицу новым столбцом\n",
    "df[\"NumberDayOfWeek\"] = df['NameDayOfWeek'].map(\n",
    "  {\n",
    "    \"Понедельник\": 1,\n",
    "    \"Вторник\": 2,\n",
    "    \"Среда\": 3,\n",
    "  }\n",
    ")\n",
    "df"
   ],
   "metadata": {
    "colab": {
     "base_uri": "https://localhost:8080/",
     "height": 175
    },
    "id": "oBpft-Sx-yvb",
    "executionInfo": {
     "status": "ok",
     "timestamp": 1664789218800,
     "user_tz": -420,
     "elapsed": 123,
     "user": {
      "displayName": "Иван Осипенко",
      "userId": "16599116897440604411"
     }
    },
    "outputId": "d16ac10c-ef57-48c7-9b52-e7db5345a4ee",
    "ExecuteTime": {
     "start_time": "2023-09-06T02:22:41.923803Z"
    }
   },
   "execution_count": null,
   "outputs": []
  },
  {
   "cell_type": "code",
   "source": [],
   "metadata": {
    "id": "V0gFj5z2-8JI",
    "ExecuteTime": {
     "start_time": "2023-09-06T02:22:41.924864Z"
    }
   },
   "execution_count": null,
   "outputs": []
  },
  {
   "cell_type": "markdown",
   "source": [
    "# Фильтация значений"
   ],
   "metadata": {
    "id": "hzf1djnwEiv_"
   }
  },
  {
   "cell_type": "code",
   "source": [
    "N = 8\n",
    "df = pd.DataFrame({\n",
    "  'Integer_col': range(100, 100+N),\n",
    "  'Str_col': [chr(97 + i) for i in range(N)],\n",
    "  'isYes_col': ['yes', 'no']* (N//2),\n",
    " })\n",
    "df"
   ],
   "metadata": {
    "colab": {
     "base_uri": "https://localhost:8080/",
     "height": 300
    },
    "id": "UEgsa7XBEiOt",
    "executionInfo": {
     "status": "ok",
     "timestamp": 1664789293105,
     "user_tz": -420,
     "elapsed": 34,
     "user": {
      "displayName": "Иван Осипенко",
      "userId": "16599116897440604411"
     }
    },
    "outputId": "81357b0e-7d3e-42d6-9852-22f4193e3cb7",
    "ExecuteTime": {
     "start_time": "2023-09-06T02:22:41.925682Z"
    }
   },
   "execution_count": null,
   "outputs": []
  },
  {
   "cell_type": "code",
   "source": [
    "# https://pandas.pydata.org/docs/reference/api/pandas.DataFrame.query.html\n",
    "df.query('Integer_col>102  &  isYes_col==\"yes\"')"
   ],
   "metadata": {
    "colab": {
     "base_uri": "https://localhost:8080/",
     "height": 112
    },
    "id": "ieBfRJe5EiSE",
    "executionInfo": {
     "status": "ok",
     "timestamp": 1664789302468,
     "user_tz": -420,
     "elapsed": 859,
     "user": {
      "displayName": "Иван Осипенко",
      "userId": "16599116897440604411"
     }
    },
    "outputId": "bd2fc107-c6cb-4a6c-a4b9-95e0aed68b76",
    "ExecuteTime": {
     "start_time": "2023-09-06T02:22:41.926863Z"
    }
   },
   "execution_count": null,
   "outputs": []
  },
  {
   "cell_type": "code",
   "source": [],
   "metadata": {
    "id": "GgZUSFo4LDBj",
    "ExecuteTime": {
     "start_time": "2023-09-06T02:22:41.927715Z"
    }
   },
   "execution_count": null,
   "outputs": []
  }
 ]
}
